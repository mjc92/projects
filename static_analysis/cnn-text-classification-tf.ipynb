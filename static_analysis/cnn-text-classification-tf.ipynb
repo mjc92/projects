{
 "cells": [
  {
   "cell_type": "code",
   "execution_count": 23,
   "metadata": {
    "collapsed": true
   },
   "outputs": [],
   "source": [
    "import tensorflow as tf\n",
    "import numpy as np\n",
    "import os\n",
    "import time\n",
    "import datetime\n",
    "import re\n",
    "import itertools\n",
    "from collections import Counter\n",
    "from tensorflow.contrib import learn\n",
    "from sklearn import metrics"
   ]
  },
  {
   "cell_type": "code",
   "execution_count": 24,
   "metadata": {
    "collapsed": true
   },
   "outputs": [],
   "source": [
    "import datetime\n",
    "import time"
   ]
  },
  {
   "cell_type": "code",
   "execution_count": 25,
   "metadata": {
    "collapsed": false
   },
   "outputs": [],
   "source": [
    "saver_name=\"model\"+str(time.time())"
   ]
  },
  {
   "cell_type": "code",
   "execution_count": 26,
   "metadata": {
    "collapsed": false
   },
   "outputs": [],
   "source": [
    "# Parameters\n",
    "sequence_length=300\n",
    "num_classes=2\n",
    "\n",
    "vocab_size=100 # default\n",
    "filter_sizes=[3,4,5,6]\n",
    "num_filters=256\n",
    "dropout_keep_prob=0.5\n",
    "l2_reg_lambda=0.0\n",
    "\n",
    "batch_size=100\n",
    "num_epochs=30\n",
    "evaluate_every=100\n",
    "checkpoint_every=100\n",
    "\n",
    "allow_soft_placement=True\n",
    "log_device_placement=True"
   ]
  },
  {
   "cell_type": "code",
   "execution_count": 27,
   "metadata": {
    "collapsed": true
   },
   "outputs": [],
   "source": [
    "# File directory\n",
    "train_FILE = 'train.txt'\n",
    "test_FILE = 'test.txt'\n",
    "#train_FILE = 'skFIFS_train5.txt'\n",
    "#test_FILE = 'skFIFS_test5.txt'"
   ]
  },
  {
   "cell_type": "code",
   "execution_count": 28,
   "metadata": {
    "collapsed": false,
    "scrolled": true
   },
   "outputs": [
    {
     "name": "stdout",
     "output_type": "stream",
     "text": [
      "Loading data...\n",
      "Data loaded!\n",
      "Training data shape: (63975, 301)\n",
      "Test data shape: (27419, 301)\n"
     ]
    }
   ],
   "source": [
    "# Load data\n",
    "print(\"Loading data...\")\n",
    "# import training and test data\n",
    "\n",
    "xy_train = np.loadtxt(train_FILE,unpack=True,dtype='int')\n",
    "xy_test = np.loadtxt(test_FILE,unpack=True,dtype='int')\n",
    "print(\"Data loaded!\")\n",
    "\n",
    "xy_train = xy_train.T\n",
    "xy_test = xy_test.T\n",
    "print \"Training data shape: \"+str(xy_train.shape)\n",
    "print \"Test data shape: \"+str(xy_test.shape)\n",
    "\n",
    "# get training and test sets\n",
    "x_train = xy_train[:,0:300]\n",
    "y_train = xy_train[:,300]\n",
    "x_test = xy_test[:,0:300]\n",
    "y_test = xy_test[:,300]"
   ]
  },
  {
   "cell_type": "code",
   "execution_count": 29,
   "metadata": {
    "collapsed": false
   },
   "outputs": [
    {
     "name": "stdout",
     "output_type": "stream",
     "text": [
      "Train/Dev split: 62975/1000\n"
     ]
    }
   ],
   "source": [
    "x_train, x_dev = x_train[:-1000], x_train[-1000:]\n",
    "y_train, y_dev = y_train[:-1000], y_train[-1000:]\n",
    "print(\"Train/Dev split: {:d}/{:d}\".format(len(y_train), len(y_dev)))"
   ]
  },
  {
   "cell_type": "code",
   "execution_count": 30,
   "metadata": {
    "collapsed": false
   },
   "outputs": [],
   "source": [
    "# optional - use portion of data\n",
    "x_train = x_train[0:5000,:]\n",
    "y_train = y_train[0:5000]\n",
    "x_test = x_test[0:2000,:]\n",
    "y_test = y_test[0:2000]"
   ]
  },
  {
   "cell_type": "code",
   "execution_count": 31,
   "metadata": {
    "collapsed": false
   },
   "outputs": [
    {
     "name": "stdout",
     "output_type": "stream",
     "text": [
      "Largest char is: 126 -> ~\n",
      "Smallest char is: 33 -> !\n",
      "Total number of characters: 94\n"
     ]
    }
   ],
   "source": [
    "max_char = np.amax(x_train)\n",
    "min_char = np.amin(x_train)\n",
    "vocab_size = max_char-min_char+1\n",
    "print \"Largest char is: %d -> \"%max_char+str(chr(max_char))\n",
    "print \"Smallest char is: %d -> \"%min_char+str(chr(min_char))\n",
    "print \"Total number of characters: \" + str(vocab_size)"
   ]
  },
  {
   "cell_type": "code",
   "execution_count": 32,
   "metadata": {
    "collapsed": true
   },
   "outputs": [],
   "source": [
    "# change x to one-hot\n",
    "def embed_x(x,max_char,min_char):\n",
    "    m,n = x.shape\n",
    "    out = np.zeros((m*n,max_char-min_char+1)) # (batch*length,94)\n",
    "    x_reshape = np.reshape(x,(m*n)) # (batch_length,1)\n",
    "    out[xrange(m*n),x_reshape-min_char]=1\n",
    "    out=np.reshape(out,(m,n,1,-1))\n",
    "    return out\n",
    "x_dev = embed_x(x_dev,max_char,min_char)"
   ]
  },
  {
   "cell_type": "code",
   "execution_count": 33,
   "metadata": {
    "collapsed": false
   },
   "outputs": [],
   "source": [
    "# change y to 2 classes\n",
    "def embed_y(y):\n",
    "    y = np.concatenate([1-y,y],axis=1)\n",
    "    return y\n",
    "y_train = embed_y(np.reshape(y_train,(y_train.shape[0],1)))\n",
    "y_dev = embed_y(np.reshape(y_dev,(y_dev.shape[0],1)))"
   ]
  },
  {
   "cell_type": "code",
   "execution_count": 34,
   "metadata": {
    "collapsed": false
   },
   "outputs": [],
   "source": [
    "class TextCNN(object):\n",
    "    def __init__(self,sequence_length,num_classes,vocab_size,filter_sizes,num_filters,l2_reg_lambda=0.0):\n",
    "        self.input_x = tf.placeholder(tf.float32, [None, sequence_length,1,vocab_size],name=\"input_x\")\n",
    "        self.input_y = tf.placeholder(tf.float32, [None, num_classes],name=\"input_y\")\n",
    "        self.dropout_keep_prob = tf.placeholder(tf.float32,name=\"dropout_keep_prob\")\n",
    "        \n",
    "        # keep track of l2 regularization loss\n",
    "        l2_loss = tf.constant(0.0)\n",
    "        \n",
    "        # no need for an embedding layer\n",
    "        \n",
    "        # create a convolution + maxpool layer for each filter size\n",
    "        pooled_outputs = []\n",
    "        with tf.device('/gpu:1'):\n",
    "            for i, filter_size in enumerate(filter_sizes):\n",
    "                with tf.name_scope(\"conv_maxpool-%s\" % filter_size):\n",
    "                    # convolution layer\n",
    "                    # input tensor = [batch, in_height, in_width, in_channels]\n",
    "                    #              = [100,   300,       1,        94]\n",
    "                    # filter shape = [filter_height, filter_width, in_channels, out_channels]\n",
    "                    filter_shape = [filter_size,1,vocab_size,num_filters]\n",
    "                    \n",
    "                    W = tf.Variable(tf.truncated_normal(filter_shape,stddev=0.1), name=\"W\")\n",
    "                    b = tf.Variable(tf.constant(0.1, shape=[num_filters]),name=\"b\")\n",
    "                    conv = tf.nn.conv2d(self.input_x,W,strides=[1,1,1,1],padding=\"VALID\",name=\"conv\")\n",
    "                    # nonlinearity\n",
    "                    h = tf.nn.relu(tf.nn.bias_add(conv,b),name=\"relu\")\n",
    "                    # maxpooling over outputs\n",
    "                    pooled = tf.nn.max_pool(h,ksize=[1,sequence_length-filter_size+1,1,1],strides=[1,1,1,1],\n",
    "                                           padding=\"VALID\",name=\"pool\")\n",
    "                    pooled_outputs.append(pooled)\n",
    "                    \n",
    "            # combine all pooled features\n",
    "            num_filters_total = num_filters * len(filter_sizes)\n",
    "            self.h_pool = tf.concat(3, pooled_outputs)\n",
    "            self.h_pool_flat = tf.reshape(self.h_pool,[-1,num_filters_total])\n",
    "\n",
    "            # Add dropout\n",
    "            with tf.name_scope(\"dropout\"):\n",
    "                self.h_drop = tf.nn.dropout(self.h_pool_flat, self.dropout_keep_prob)\n",
    "\n",
    "            # Final (unnormalized) scores and predictions\n",
    "            with tf.name_scope(\"output\"):\n",
    "                W = tf.get_variable(\"W\", shape=[num_filters_total, num_classes],\n",
    "                                   initializer = tf.contrib.layers.xavier_initializer())\n",
    "                b = tf.Variable(tf.constant(0.1, shape=[num_classes]), name=\"b\")\n",
    "                l2_loss += tf.nn.l2_loss(W)\n",
    "                l2_loss += tf.nn.l2_loss(b)\n",
    "                self.scores = tf.nn.xw_plus_b(self.h_drop, W,b,name=\"scores\")\n",
    "                self.predictions = tf.argmax(self.scores, 1, name=\"predictions\")\n",
    "\n",
    "            # Calculate mean cross-entropy loss\n",
    "            with tf.name_scope(\"loss\"):\n",
    "                losses = tf.nn.softmax_cross_entropy_with_logits(self.scores, self.input_y)\n",
    "                self.loss = tf.reduce_mean(losses) + l2_reg_lambda * l2_loss\n",
    "\n",
    "            # Accuracy\n",
    "            with tf.name_scope(\"accuracy\"):\n",
    "                correct_predictions = tf.equal(self.predictions, tf.argmax(self.input_y,1))\n",
    "                self.accuracy = tf.reduce_mean(tf.cast(correct_predictions, \"float\"), name=\"accuracy\")            \n"
   ]
  },
  {
   "cell_type": "code",
   "execution_count": null,
   "metadata": {
    "collapsed": false
   },
   "outputs": [
    {
     "name": "stdout",
     "output_type": "stream",
     "text": [
      "Writing to /home/mjc/projects/static_analysis/runs/1476624206\n",
      "\n"
     ]
    }
   ],
   "source": [
    "# Training\n",
    "gpu_options = tf.GPUOptions(per_process_gpu_memory_fraction=0.25)\n",
    "with tf.Graph().as_default():\n",
    "    session_conf = tf.ConfigProto(\n",
    "      gpu_options=gpu_options,  \n",
    "      allow_soft_placement=allow_soft_placement,\n",
    "      log_device_placement=log_device_placement)\n",
    "    sess = tf.Session(config=session_conf)\n",
    "    with sess.as_default():\n",
    "        cnn = TextCNN(\n",
    "            sequence_length=x_train.shape[1],\n",
    "            num_classes=2,\n",
    "            vocab_size=vocab_size,\n",
    "            filter_sizes=filter_sizes,\n",
    "            num_filters=num_filters,\n",
    "            l2_reg_lambda=l2_reg_lambda)\n",
    "        \n",
    "        # Define training procedure\n",
    "        global_step = tf.Variable(0, name=\"global_step\", trainable=False)\n",
    "        optimizer = tf.train.AdamOptimizer(1e-3)\n",
    "        grads_and_vars = optimizer.compute_gradients(cnn.loss)\n",
    "        train_op = optimizer.apply_gradients(grads_and_vars,global_step=global_step)\n",
    "        \n",
    "        # Keep track of gradient values and sparsity (optional)\n",
    "        grad_summaries = []\n",
    "        for g, v in grads_and_vars:\n",
    "            if g is not None:\n",
    "                grad_hist_summary = tf.histogram_summary(\"{}/grad/hist\".format(v.name), g)\n",
    "                sparsity_summary = tf.scalar_summary(\"{}/grad/sparsity\".format(v.name), tf.nn.zero_fraction(g))\n",
    "                grad_summaries.append(grad_hist_summary)\n",
    "                grad_summaries.append(sparsity_summary)\n",
    "        grad_summaries_merged = tf.merge_summary(grad_summaries)\n",
    "\n",
    "        # Output directory for models and summaries\n",
    "        timestamp = str(int(time.time()))\n",
    "        out_dir = os.path.abspath(os.path.join(os.path.curdir, \"runs\", timestamp))\n",
    "        print(\"Writing to {}\\n\".format(out_dir))\n",
    "\n",
    "        # Summaries for loss and accuracy\n",
    "        loss_summary = tf.scalar_summary(\"loss\", cnn.loss)\n",
    "        acc_summary = tf.scalar_summary(\"accuracy\", cnn.accuracy)\n",
    "\n",
    "        # Train Summaries\n",
    "        train_summary_op = tf.merge_summary([loss_summary, acc_summary, grad_summaries_merged])\n",
    "        train_summary_dir = os.path.join(out_dir, \"summaries\", \"train\")\n",
    "        train_summary_writer = tf.train.SummaryWriter(train_summary_dir, sess.graph)\n",
    "\n",
    "        # Dev summaries\n",
    "        dev_summary_op = tf.merge_summary([loss_summary, acc_summary])\n",
    "        dev_summary_dir = os.path.join(out_dir, \"summaries\", \"dev\")\n",
    "        dev_summary_writer = tf.train.SummaryWriter(dev_summary_dir, sess.graph)\n",
    "\n",
    "        # Checkpoint directory. Tensorflow assumes this directory already exists so we need to create it\n",
    "        checkpoint_dir = os.path.abspath(os.path.join(out_dir, \"checkpoints\"))\n",
    "        checkpoint_prefix = os.path.join(checkpoint_dir, \"model\")\n",
    "        if not os.path.exists(checkpoint_dir):\n",
    "            os.makedirs(checkpoint_dir)\n",
    "        saver = tf.train.Saver(tf.all_variables())\n",
    "        \n",
    "        # Write vocabulary\n",
    "#        vocab_processor.save(os.path.join(out_dir,\"vocab\"))\n",
    "        \n",
    "        # Initialize all variables\n",
    "        sess.run(tf.initialize_all_variables())\n",
    "        def train_step(x_batch, y_batch,i):\n",
    "            # A single training step\n",
    "            feed_dict = {\n",
    "                cnn.input_x: x_batch,\n",
    "                cnn.input_y: y_batch,\n",
    "                cnn.dropout_keep_prob: dropout_keep_prob\n",
    "            }\n",
    "            _, step,summaries, loss, accuracy = sess.run(\n",
    "                [train_op, global_step, train_summary_op, cnn.loss, cnn.accuracy],\n",
    "                feed_dict)\n",
    "            time_str = datetime.datetime.now().isoformat()\n",
    "            if i%10==9:\n",
    "                print(\"{}: step {}, loss {:g}, acc {:g}\".format(time_str, step, loss, accuracy))\n",
    "            train_summary_writer.add_summary(summaries, step)\n",
    "            \n",
    "        def dev_step(x_batch, y_batch, writer=None):\n",
    "            # Evaluates model on a dev?test? set\n",
    "            feed_dict = {\n",
    "              cnn.input_x: x_batch,\n",
    "              cnn.input_y: y_batch,\n",
    "              cnn.dropout_keep_prob: 1.0\n",
    "            }\n",
    "            step, summaries, loss, accuracy = sess.run(\n",
    "                [global_step, dev_summary_op, cnn.loss, cnn.accuracy],\n",
    "                feed_dict)\n",
    "            time_str = datetime.datetime.now().isoformat()\n",
    "            print(\"{}: step {}, loss {:g}, acc {:g}\".format(time_str, step, loss, accuracy))\n",
    "            if writer:\n",
    "                writer.add_summary(summaries, step)\n",
    "    \n",
    "        # Training loop. For each batch...\n",
    "        for i in xrange(num_epochs):\n",
    "            for j in xrange(int(x_train.shape[0]/batch_size)):\n",
    "                x_batch=embed_x(x_train[j*batch_size:(j+1)*batch_size-1,:],max_char,min_char)\n",
    "                y_batch=y_train[j*batch_size:(j+1)*batch_size-1]\n",
    "                train_step(x_batch, y_batch,j)\n",
    "                current_step = tf.train.global_step(sess, global_step)\n",
    "                if current_step % evaluate_every == 0:\n",
    "                    print(\"\\nEvaluation:\")\n",
    "                    dev_step(x_dev, y_dev, writer=dev_summary_writer)\n",
    "                    print(\"\")\n",
    "                if current_step % checkpoint_every == 0:\n",
    "                    path = saver.save(sess, checkpoint_prefix, global_step=current_step)\n",
    "                    print(\"Saved model checkpoint to {}\\n\".format(path))"
   ]
  },
  {
   "cell_type": "code",
   "execution_count": null,
   "metadata": {
    "collapsed": false
   },
   "outputs": [],
   "source": [
    "# Evaluation\n",
    "# ==================================================\n",
    "checkpoint_file = tf.train.latest_checkpoint(checkpoint_dir)\n",
    "graph = tf.Graph()\n",
    "with graph.as_default():\n",
    "    session_conf = tf.ConfigProto(\n",
    "      allow_soft_placement=allow_soft_placement,\n",
    "      log_device_placement=log_device_placement)\n",
    "    sess = tf.Session(config=session_conf)\n",
    "    with sess.as_default():\n",
    "        # Load the saved meta graph and restore variables\n",
    "        saver = tf.train.import_meta_graph(\"{}.meta\".format(checkpoint_file))\n",
    "        saver.restore(sess, checkpoint_file)\n",
    "\n",
    "        # Get the placeholders from the graph by name\n",
    "        input_x = graph.get_operation_by_name(\"input_x\").outputs[0]\n",
    "        # input_y = graph.get_operation_by_name(\"input_y\").outputs[0]\n",
    "        dropout_keep_prob = graph.get_operation_by_name(\"dropout_keep_prob\").outputs[0]\n",
    "\n",
    "        # Tensors we want to evaluate\n",
    "        predictions = graph.get_operation_by_name(\"output/predictions\").outputs[0]\n",
    "\n",
    "        # Collect the predictions here\n",
    "        all_predictions = []\n",
    "\n",
    "        for i in xrange(int(x_test.shape[0]/batch_size)):\n",
    "            x_test_batch=embed_x(x_test[i*batch_size:(i+1)*batch_size-1,:],max_char,min_char)\n",
    "            y_test_batch=y_test[i*batch_size:(i+1)*batch_size-1]\n",
    "            batch_predictions = sess.run(predictions, {input_x: x_test_batch, dropout_keep_prob: 1.0})\n",
    "            all_predictions = np.concatenate([all_predictions, batch_predictions])\n",
    "\n",
    "if len(y_test)>len(all_predictions):\n",
    "    y_test=y_test[0:len(all_predictions)]\n",
    "\n",
    "# Print accuracy if y_test is defined\n",
    "if y_test is not None:\n",
    "    correct_predictions = float(sum(all_predictions == y_test))\n",
    "    print(\"Total number of test examples: {}\".format(len(y_test)))\n",
    "    print(\"Accuracy: {:g}\".format(correct_predictions/float(len(y_test))))\n",
    "    fpr, tpr, thresholds = metrics.roc_curve(y_test,all_predictions,pos_label=1)\n",
    "    print \"AUC: %f\" % metrics.auc(fpr,tpr)\n",
    "# save values\n",
    "np.savetxt(\"all_predictions.txt\",all_predictions,fmt=\"%d\",delimiter=' ')\n",
    "np.savetxt(\"actual_classes.txt\",y_test,fmt=\"%d\",delimiter=' ')"
   ]
  },
  {
   "cell_type": "code",
   "execution_count": null,
   "metadata": {
    "collapsed": true
   },
   "outputs": [],
   "source": []
  }
 ],
 "metadata": {
  "kernelspec": {
   "display_name": "Python [Root]",
   "language": "python",
   "name": "Python [Root]"
  },
  "language_info": {
   "codemirror_mode": {
    "name": "ipython",
    "version": 2
   },
   "file_extension": ".py",
   "mimetype": "text/x-python",
   "name": "python",
   "nbconvert_exporter": "python",
   "pygments_lexer": "ipython2",
   "version": "2.7.12"
  }
 },
 "nbformat": 4,
 "nbformat_minor": 0
}
